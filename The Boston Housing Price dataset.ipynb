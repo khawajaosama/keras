{
 "cells": [
  {
   "cell_type": "code",
   "execution_count": 223,
   "metadata": {},
   "outputs": [],
   "source": [
    "import numpy as np\n",
    "from matplotlib import pyplot as plt\n",
    "import tensorflow"
   ]
  },
  {
   "cell_type": "code",
   "execution_count": 121,
   "metadata": {},
   "outputs": [],
   "source": [
    "from keras.datasets import boston_housing"
   ]
  },
  {
   "cell_type": "code",
   "execution_count": 122,
   "metadata": {
    "scrolled": true
   },
   "outputs": [],
   "source": [
    "(train_data,train_targets),(test_data,test_targets)=boston_housing.load_data()"
   ]
  },
  {
   "cell_type": "markdown",
   "metadata": {},
   "source": [
    "## Attributes of Data"
   ]
  },
  {
   "cell_type": "code",
   "execution_count": 123,
   "metadata": {},
   "outputs": [
    {
     "name": "stdout",
     "output_type": "stream",
     "text": [
      "404\n",
      "102\n",
      "(404, 13)\n",
      "(102, 13)\n"
     ]
    }
   ],
   "source": [
    "print(len(train_data))\n",
    "print(len(test_data))\n",
    "print(train_data.shape)\n",
    "print(test_data.shape)"
   ]
  },
  {
   "cell_type": "markdown",
   "metadata": {},
   "source": [
    "### Labels are the mean price values in 1k dollars"
   ]
  },
  {
   "cell_type": "code",
   "execution_count": 124,
   "metadata": {},
   "outputs": [
    {
     "name": "stdout",
     "output_type": "stream",
     "text": [
      "[15.2 42.3 50.  21.1 17.7 18.5 11.3 15.6 15.6 14.4 12.1 17.9 23.1 19.9\n",
      " 15.7  8.8 50.  22.5 24.1 27.5 10.9 30.8 32.9 24.  18.5 13.3 22.9 34.7\n",
      " 16.6 17.5 22.3 16.1 14.9 23.1 34.9 25.  13.9 13.1 20.4 20.  15.2 24.7\n",
      " 22.2 16.7 12.7 15.6 18.4 21.  30.1 15.1 18.7  9.6 31.5 24.8 19.1 22.\n",
      " 14.5 11.  32.  29.4 20.3 24.4 14.6 19.5 14.1 14.3 15.6 10.5  6.3 19.3\n",
      " 19.3 13.4 36.4 17.8 13.5 16.5  8.3 14.3 16.  13.4 28.6 43.5 20.2 22.\n",
      " 23.  20.7 12.5 48.5 14.6 13.4 23.7 50.  21.7 39.8 38.7 22.2 34.9 22.5\n",
      " 31.1 28.7 46.  41.7 21.  26.6 15.  24.4 13.3 21.2 11.7 21.7 19.4 50.\n",
      " 22.8 19.7 24.7 36.2 14.2 18.9 18.3 20.6 24.6 18.2  8.7 44.  10.4 13.2\n",
      " 21.2 37.  30.7 22.9 20.  19.3 31.7 32.  23.1 18.8 10.9 50.  19.6  5.\n",
      " 14.4 19.8 13.8 19.6 23.9 24.5 25.  19.9 17.2 24.6 13.5 26.6 21.4 11.9\n",
      " 22.6 19.6  8.5 23.7 23.1 22.4 20.5 23.6 18.4 35.2 23.1 27.9 20.6 23.7\n",
      " 28.  13.6 27.1 23.6 20.6 18.2 21.7 17.1  8.4 25.3 13.8 22.2 18.4 20.7\n",
      " 31.6 30.5 20.3  8.8 19.2 19.4 23.1 23.  14.8 48.8 22.6 33.4 21.1 13.6\n",
      " 32.2 13.1 23.4 18.9 23.9 11.8 23.3 22.8 19.6 16.7 13.4 22.2 20.4 21.8\n",
      " 26.4 14.9 24.1 23.8 12.3 29.1 21.  19.5 23.3 23.8 17.8 11.5 21.7 19.9\n",
      " 25.  33.4 28.5 21.4 24.3 27.5 33.1 16.2 23.3 48.3 22.9 22.8 13.1 12.7\n",
      " 22.6 15.  15.3 10.5 24.  18.5 21.7 19.5 33.2 23.2  5.  19.1 12.7 22.3\n",
      " 10.2 13.9 16.3 17.  20.1 29.9 17.2 37.3 45.4 17.8 23.2 29.  22.  18.\n",
      " 17.4 34.6 20.1 25.  15.6 24.8 28.2 21.2 21.4 23.8 31.  26.2 17.4 37.9\n",
      " 17.5 20.   8.3 23.9  8.4 13.8  7.2 11.7 17.1 21.6 50.  16.1 20.4 20.6\n",
      " 21.4 20.6 36.5  8.5 24.8 10.8 21.9 17.3 18.9 36.2 14.9 18.2 33.3 21.8\n",
      " 19.7 31.6 24.8 19.4 22.8  7.5 44.8 16.8 18.7 50.  50.  19.5 20.1 50.\n",
      " 17.2 20.8 19.3 41.3 20.4 20.5 13.8 16.5 23.9 20.6 31.5 23.3 16.8 14.\n",
      " 33.8 36.1 12.8 18.3 18.7 19.1 29.  30.1 50.  50.  22.  11.9 37.6 50.\n",
      " 22.7 20.8 23.5 27.9 50.  19.3 23.9 22.6 15.2 21.7 19.2 43.8 20.3 33.2\n",
      " 19.9 22.5 32.7 22.  17.1 19.  15.  16.1 25.1 23.7 28.7 37.2 22.6 16.4\n",
      " 25.  29.8 22.1 17.4 18.1 30.3 17.5 24.7 12.6 26.5 28.7 13.3 10.4 24.4\n",
      " 23.  20.  17.8  7.  11.8 24.4 13.8 19.4 25.2 19.4 19.4 29.1]\n",
      "[ 7.2 18.8 19.  27.  22.2 24.5 31.2 22.9 20.5 23.2 18.6 14.5 17.8 50.\n",
      " 20.8 24.3 24.2 19.8 19.1 22.7 12.  10.2 20.  18.5 20.9 23.  27.5 30.1\n",
      "  9.5 22.  21.2 14.1 33.1 23.4 20.1  7.4 15.4 23.8 20.1 24.5 33.  28.4\n",
      " 14.1 46.7 32.5 29.6 28.4 19.8 20.2 25.  35.4 20.3  9.7 14.5 34.9 26.6\n",
      "  7.2 50.  32.4 21.6 29.8 13.1 27.5 21.2 23.1 21.9 13.  23.2  8.1  5.6\n",
      " 21.7 29.6 19.6  7.  26.4 18.9 20.9 28.1 35.4 10.2 24.3 43.1 17.6 15.4\n",
      " 16.2 27.1 21.4 21.5 22.4 25.  16.6 18.6 22.  42.8 35.1 21.5 36.  21.9\n",
      " 24.1 50.  26.7 25. ]\n"
     ]
    }
   ],
   "source": [
    "print(train_targets)\n",
    "\n",
    "print(test_targets)"
   ]
  },
  {
   "cell_type": "code",
   "execution_count": 125,
   "metadata": {},
   "outputs": [],
   "source": [
    "mean=train_data.mean(axis=0)\n",
    "std=train_data.std(axis=0)"
   ]
  },
  {
   "cell_type": "code",
   "execution_count": 126,
   "metadata": {},
   "outputs": [],
   "source": [
    "train_data-=mean\n",
    "train_data/=std"
   ]
  },
  {
   "cell_type": "code",
   "execution_count": 127,
   "metadata": {},
   "outputs": [
    {
     "data": {
      "text/plain": [
       "array([[-0.27224633, -0.48361547, -0.43576161, ...,  1.14850044,\n",
       "         0.44807713,  0.8252202 ],\n",
       "       [-0.40342651,  2.99178419, -1.33391162, ..., -1.71818909,\n",
       "         0.43190599, -1.32920239],\n",
       "       [ 0.1249402 , -0.48361547,  1.0283258 , ...,  0.78447637,\n",
       "         0.22061726, -1.30850006],\n",
       "       ...,\n",
       "       [-0.40202987,  0.99079651, -0.7415148 , ..., -0.71712291,\n",
       "         0.07943894, -0.67776904],\n",
       "       [-0.17292018, -0.48361547,  1.24588095, ..., -1.71818909,\n",
       "        -0.98764362,  0.42083466],\n",
       "       [-0.40422614,  2.04394792, -1.20161456, ..., -1.30866202,\n",
       "         0.23317118, -1.15392266]])"
      ]
     },
     "execution_count": 127,
     "metadata": {},
     "output_type": "execute_result"
    }
   ],
   "source": [
    "train_data"
   ]
  },
  {
   "cell_type": "markdown",
   "metadata": {},
   "source": [
    "## Lets get started"
   ]
  },
  {
   "cell_type": "code",
   "execution_count": 128,
   "metadata": {},
   "outputs": [],
   "source": [
    "from keras import models\n",
    "from keras import layers\n",
    "\n",
    "def build_model():\n",
    "    model=models.Sequential()\n",
    "    model.add(layers.Dense(64, activation='relu',input_shape=(train_data.shape[1],)))\n",
    "    model.add(layers.Dense(64,activation='relu'))\n",
    "    model.add(layers.Dense(1))\n",
    "    model.compile(optimizer='rmsprop',loss='mse',metrics=['mae'])\n",
    "    return model\n"
   ]
  },
  {
   "cell_type": "markdown",
   "metadata": {},
   "source": [
    "## K-Fold Validation"
   ]
  },
  {
   "cell_type": "code",
   "execution_count": 178,
   "metadata": {},
   "outputs": [
    {
     "data": {
      "text/plain": [
       "101"
      ]
     },
     "execution_count": 178,
     "metadata": {},
     "output_type": "execute_result"
    }
   ],
   "source": [
    "k=4\n",
    "num_val_samples=len(train_data)//k\n",
    "num_epochs=100\n",
    "all_scores=[]\n",
    "num_val_samples"
   ]
  },
  {
   "cell_type": "code",
   "execution_count": 184,
   "metadata": {
    "scrolled": true
   },
   "outputs": [
    {
     "name": "stdout",
     "output_type": "stream",
     "text": [
      "processing fold # 0\n",
      "processing fold # 1\n",
      "processing fold # 2\n",
      "processing fold # 3\n"
     ]
    }
   ],
   "source": [
    "for i in range(k):\n",
    "    print('processing fold #', i)\n",
    "    val_data = train_data[i * num_val_samples: (i + 1) * num_val_samples]\n",
    "    val_targets = train_targets[i * num_val_samples: (i + 1) * num_val_samples]\n",
    "    \n",
    "    partial_train_data = np.concatenate([train_data[:i * num_val_samples],\n",
    "                                         train_data[(i + 1) * num_val_samples:]],axis=0)\n",
    "    partial_train_targets = np.concatenate([train_targets[:i * num_val_samples],\n",
    "                                        train_targets[(i + 1) * num_val_samples:]],axis=0)\n",
    "    model=build_model()\n",
    "    model.fit(partial_train_data, partial_train_targets,\n",
    "        epochs=num_epochs, batch_size=1, verbose=0)\n",
    "    val_mse, val_mae = model.evaluate(val_data, val_targets, verbose=0)\n",
    "    all_scores.append(val_mae)"
   ]
  },
  {
   "cell_type": "code",
   "execution_count": 187,
   "metadata": {},
   "outputs": [
    {
     "name": "stdout",
     "output_type": "stream",
     "text": [
      "[2.12963606343411, 2.206031074618349, 3.005267889192789, 2.325352980948911]\n"
     ]
    },
    {
     "data": {
      "text/plain": [
       "2.4165720020485395"
      ]
     },
     "execution_count": 187,
     "metadata": {},
     "output_type": "execute_result"
    }
   ],
   "source": [
    "print(all_scores)\n",
    "np.mean(all_scores)"
   ]
  },
  {
   "cell_type": "markdown",
   "metadata": {},
   "source": [
    "## For 500 epochs"
   ]
  },
  {
   "cell_type": "code",
   "execution_count": 216,
   "metadata": {},
   "outputs": [
    {
     "data": {
      "text/plain": [
       "101"
      ]
     },
     "execution_count": 216,
     "metadata": {},
     "output_type": "execute_result"
    }
   ],
   "source": [
    "k=4\n",
    "num_val_samples=len(train_data)//k\n",
    "num_epochs=500\n",
    "all_mae_histories=[]\n",
    "num_val_samples"
   ]
  },
  {
   "cell_type": "code",
   "execution_count": 218,
   "metadata": {},
   "outputs": [
    {
     "name": "stdout",
     "output_type": "stream",
     "text": [
      "processing fold # 0\n",
      "processing fold # 1\n",
      "processing fold # 2\n",
      "processing fold # 3\n"
     ]
    }
   ],
   "source": [
    "for i in range(k):\n",
    "    print('processing fold #', i)\n",
    "    val_data = train_data[i * num_val_samples: (i + 1) * num_val_samples]\n",
    "    val_targets = train_targets[i * num_val_samples: (i + 1) * num_val_samples]\n",
    "    \n",
    "    partial_train_data = np.concatenate([train_data[:i * num_val_samples],\n",
    "                                         train_data[(i + 1) * num_val_samples:]],axis=0)\n",
    "    partial_train_targets = np.concatenate([train_targets[:i * num_val_samples],\n",
    "                                        train_targets[(i + 1) * num_val_samples:]],axis=0)\n",
    "    model=build_model()\n",
    "    history = model.fit(partial_train_data, partial_train_targets,\n",
    "                        validation_data=(val_data, val_targets),\n",
    "                        epochs=num_epochs, batch_size=1, verbose=0)\n",
    "    mae_history = history.history['val_mean_absolute_error']\n",
    "    all_mae_histories.append(mae_history)"
   ]
  },
  {
   "cell_type": "code",
   "execution_count": 220,
   "metadata": {},
   "outputs": [
    {
     "data": {
      "text/plain": [
       "500"
      ]
     },
     "execution_count": 220,
     "metadata": {},
     "output_type": "execute_result"
    }
   ],
   "source": [
    "len(all_mae_histories[0])"
   ]
  },
  {
   "cell_type": "code",
   "execution_count": 221,
   "metadata": {},
   "outputs": [],
   "source": [
    "average_mae_history = [np.mean([x[i] for x in all_mae_histories]) for i in range(num_epochs)]"
   ]
  },
  {
   "cell_type": "code",
   "execution_count": 222,
   "metadata": {},
   "outputs": [
    {
     "data": {
      "text/plain": [
       "[4.305534424168048,\n",
       " 3.2796271649917754,\n",
       " 3.1815577001854924,\n",
       " 2.8934414150691268,\n",
       " 2.727753810363241,\n",
       " 2.8084227094555843,\n",
       " 2.689997775719897,\n",
       " 2.590358354077481,\n",
       " 2.7463815920423755,\n",
       " 2.5497122743342184,\n",
       " 2.7506216953296474,\n",
       " 2.603269195792699,\n",
       " 2.5140678174424878,\n",
       " 2.5269292404155923,\n",
       " 2.5050863688535028,\n",
       " 2.5055831186842212,\n",
       " 2.680897279541091,\n",
       " 2.4488620510195744,\n",
       " 2.4959392335155224,\n",
       " 2.468154842900758,\n",
       " 2.4601977119351375,\n",
       " 2.5753436324620007,\n",
       " 2.4644445712023444,\n",
       " 2.358726883878802,\n",
       " 2.4698737080734556,\n",
       " 2.408548696796493,\n",
       " 2.4199886605291083,\n",
       " 2.3450416538975025,\n",
       " 2.347392751438783,\n",
       " 2.4371224830646323,\n",
       " 2.482875844039539,\n",
       " 2.4504925732565397,\n",
       " 2.3954731639068907,\n",
       " 2.4224457811601092,\n",
       " 2.3177834725616004,\n",
       " 2.3990578734048524,\n",
       " 2.2865359523508806,\n",
       " 2.3887699500168904,\n",
       " 2.297018865547558,\n",
       " 2.335434581973765,\n",
       " 2.3749414729599905,\n",
       " 2.3526620487175363,\n",
       " 2.2847840821388927,\n",
       " 2.341627883439017,\n",
       " 2.3458059742899224,\n",
       " 2.4175682587198692,\n",
       " 2.425284638263211,\n",
       " 2.3259810203372844,\n",
       " 2.2944933152434848,\n",
       " 2.4117379660653597,\n",
       " 2.325426603307818,\n",
       " 2.2340329389760987,\n",
       " 2.3618700610529078,\n",
       " 2.382541454664551,\n",
       " 2.3787595458550026,\n",
       " 2.2822038997517953,\n",
       " 2.3529287198982614,\n",
       " 2.282584380395342,\n",
       " 2.3891590503182742,\n",
       " 2.319677669222992,\n",
       " 2.2574238340453348,\n",
       " 2.2172396112196515,\n",
       " 2.2907929703740795,\n",
       " 2.3380666050580468,\n",
       " 2.4795191535855285,\n",
       " 2.1939183544404437,\n",
       " 2.4315784662076743,\n",
       " 2.253748106484366,\n",
       " 2.347966247265882,\n",
       " 2.306090061027225,\n",
       " 2.2267288854806733,\n",
       " 2.303687369469369,\n",
       " 2.3113392603279337,\n",
       " 2.2942322775869086,\n",
       " 2.353140213701985,\n",
       " 2.295568858042802,\n",
       " 2.3305066198405653,\n",
       " 2.3045764653989584,\n",
       " 2.5407575988533475,\n",
       " 2.5831076780168134,\n",
       " 2.411224040654626,\n",
       " 2.3655391848913516,\n",
       " 2.321589214967029,\n",
       " 2.4545971544662324,\n",
       " 2.4503944297828295,\n",
       " 2.407338798636257,\n",
       " 2.3070279678495806,\n",
       " 2.207989700950018,\n",
       " 2.3893344095437836,\n",
       " 2.3674981417042193,\n",
       " 2.3851463145548752,\n",
       " 2.437237540093979,\n",
       " 2.278483845219754,\n",
       " 2.2550390085371412,\n",
       " 2.3098843203912867,\n",
       " 2.2254140754737475,\n",
       " 2.4157655439754526,\n",
       " 2.3138062517241678,\n",
       " 2.2713351898854324,\n",
       " 2.3972087526085355,\n",
       " 2.3605084926775186,\n",
       " 2.326049084710603,\n",
       " 2.418864368212105,\n",
       " 2.3972720946415818,\n",
       " 2.4014435121328526,\n",
       " 2.2557179904220126,\n",
       " 2.4324970528630927,\n",
       " 2.323476460900637,\n",
       " 2.42231541340894,\n",
       " 2.4602304425570045,\n",
       " 2.386683677682782,\n",
       " 2.5116250432363834,\n",
       " 2.348136879429959,\n",
       " 2.4488812378137417,\n",
       " 2.352556606330494,\n",
       " 2.391759618674174,\n",
       " 2.4135356515941053,\n",
       " 2.3833110037416514,\n",
       " 2.395757011847921,\n",
       " 2.456556941022967,\n",
       " 2.2992457293047766,\n",
       " 2.4707370406330225,\n",
       " 2.530441206280548,\n",
       " 2.369826292047406,\n",
       " 2.4222389081917184,\n",
       " 2.4797976477311385,\n",
       " 2.447514451376282,\n",
       " 2.3427177289924996,\n",
       " 2.3549391751242155,\n",
       " 2.395696693717843,\n",
       " 2.4866421659394065,\n",
       " 2.3428266921845995,\n",
       " 2.401948525173829,\n",
       " 2.498103370170782,\n",
       " 2.470899067302742,\n",
       " 2.411885673456853,\n",
       " 2.358816139768846,\n",
       " 2.2750906336425554,\n",
       " 2.3979493674665395,\n",
       " 2.4604369897653564,\n",
       " 2.317931015892784,\n",
       " 2.3850913242538376,\n",
       " 2.55119531343479,\n",
       " 2.5324747621422947,\n",
       " 2.528338611716091,\n",
       " 2.4215227365493774,\n",
       " 2.435334054550322,\n",
       " 2.4527878725882806,\n",
       " 2.403700671573677,\n",
       " 2.3191325216010066,\n",
       " 2.4573774101710555,\n",
       " 2.499347735159468,\n",
       " 2.3716002325020216,\n",
       " 2.4746975757107874,\n",
       " 2.5525221446953195,\n",
       " 2.473892078541293,\n",
       " 2.449501915733413,\n",
       " 2.4357112315621707,\n",
       " 2.562504953677111,\n",
       " 2.467387318611145,\n",
       " 2.48857316640344,\n",
       " 2.385842800140381,\n",
       " 2.4346452632752973,\n",
       " 2.5139694674180286,\n",
       " 2.5691335968451923,\n",
       " 2.5744441924708905,\n",
       " 2.6204562800945626,\n",
       " 2.383783247211192,\n",
       " 2.4734869581637993,\n",
       " 2.4669122707725752,\n",
       " 2.493830986542277,\n",
       " 2.541810125407606,\n",
       " 2.4759937182511433,\n",
       " 2.4580549261357523,\n",
       " 2.494113308368343,\n",
       " 2.5139092159743357,\n",
       " 2.4355915466157514,\n",
       " 2.5822044103452475,\n",
       " 2.4662994642068847,\n",
       " 2.5145219529029164,\n",
       " 2.377613055824053,\n",
       " 2.401583440232985,\n",
       " 2.5816850744851747,\n",
       " 2.4882916129461607,\n",
       " 2.4629368050263656,\n",
       " 2.4919462085950492,\n",
       " 2.4073623170947087,\n",
       " 2.4537166876368004,\n",
       " 2.457418061128937,\n",
       " 2.4119638145560085,\n",
       " 2.420100550840397,\n",
       " 2.428136981359803,\n",
       " 2.4560619226776725,\n",
       " 2.462313643776544,\n",
       " 2.492868626471793,\n",
       " 2.470624918984895,\n",
       " 2.4433545747605883,\n",
       " 2.5074880489028324,\n",
       " 2.4638148192131877,\n",
       " 2.496156860106062,\n",
       " 2.5258952107759987,\n",
       " 2.4990047369853103,\n",
       " 2.466389039955517,\n",
       " 2.323081358824626,\n",
       " 2.4732930247146303,\n",
       " 2.517998250404207,\n",
       " 2.4934899559115418,\n",
       " 2.5267521390820495,\n",
       " 2.481067339972695,\n",
       " 2.5502747568753685,\n",
       " 2.4172367459476587,\n",
       " 2.5142647865975256,\n",
       " 2.517002110434051,\n",
       " 2.4526986438449065,\n",
       " 2.4338891718647266,\n",
       " 2.4339443728475283,\n",
       " 2.4715596047958526,\n",
       " 2.4909384522107567,\n",
       " 2.5641327140354875,\n",
       " 2.491246824217315,\n",
       " 2.487621094920848,\n",
       " 2.5546608950832104,\n",
       " 2.6494242956142613,\n",
       " 2.517510072429581,\n",
       " 2.4493234724101454,\n",
       " 2.487603061270006,\n",
       " 2.4471693180575227,\n",
       " 2.5087193486714128,\n",
       " 2.497030306570601,\n",
       " 2.5006368054021704,\n",
       " 2.549139683789546,\n",
       " 2.5728548611744793,\n",
       " 2.4177622936739778,\n",
       " 2.4885216585480343,\n",
       " 2.409322431772062,\n",
       " 2.6410601906257103,\n",
       " 2.5206915258180977,\n",
       " 2.523538843239888,\n",
       " 2.5449640089922614,\n",
       " 2.4428319423505576,\n",
       " 2.483907079932713,\n",
       " 2.5704273233319275,\n",
       " 2.49173645571907,\n",
       " 2.462194178364064,\n",
       " 2.452562757057719,\n",
       " 2.5943196067715637,\n",
       " 2.52652917285957,\n",
       " 2.4591851824581035,\n",
       " 2.5465863293940476,\n",
       " 2.5400380509914737,\n",
       " 2.491606457988815,\n",
       " 2.4712900277411585,\n",
       " 2.455547587706311,\n",
       " 2.5451529179469192,\n",
       " 2.463656970770052,\n",
       " 2.519528371272701,\n",
       " 2.638703702109875,\n",
       " 2.4581276485235386,\n",
       " 2.541624695947855,\n",
       " 2.4984813173218527,\n",
       " 2.4440247870907923,\n",
       " 2.6680954671142123,\n",
       " 2.4682719731094815,\n",
       " 2.475078496602502,\n",
       " 2.5109153325014777,\n",
       " 2.5804651597938912,\n",
       " 2.6065530316664436,\n",
       " 2.4880773383792083,\n",
       " 2.521145726194476,\n",
       " 2.36354392825967,\n",
       " 2.4491982991152472,\n",
       " 2.512209927681649,\n",
       " 2.4601360406025803,\n",
       " 2.4597348635739618,\n",
       " 2.431281495802473,\n",
       " 2.520965008452387,\n",
       " 2.4679348929093616,\n",
       " 2.4220431635875515,\n",
       " 2.4807565944029553,\n",
       " 2.5004216692235213,\n",
       " 2.4857743919485866,\n",
       " 2.569204736464094,\n",
       " 2.5054316390859017,\n",
       " 2.5523828161825044,\n",
       " 2.480112707260812,\n",
       " 2.553095016149011,\n",
       " 2.4858631414942223,\n",
       " 2.49403445555432,\n",
       " 2.5979034723621783,\n",
       " 2.446637914912535,\n",
       " 2.5064907640513807,\n",
       " 2.3767896306396707,\n",
       " 2.576663145924559,\n",
       " 2.403878412624397,\n",
       " 2.4987004594047466,\n",
       " 2.466876281370031,\n",
       " 2.4652906868717457,\n",
       " 2.4819550207345795,\n",
       " 2.488398806883557,\n",
       " 2.471095695353971,\n",
       " 2.496317110439338,\n",
       " 2.4548165762778558,\n",
       " 2.4871799450109497,\n",
       " 2.4499462512460086,\n",
       " 2.516855059283795,\n",
       " 2.4970427834161435,\n",
       " 2.4607335824777583,\n",
       " 2.4916356707563496,\n",
       " 2.465214361058603,\n",
       " 2.5140812456017674,\n",
       " 2.410649502631461,\n",
       " 2.469132710211348,\n",
       " 2.4662082077252983,\n",
       " 2.471977465223558,\n",
       " 2.4159380705049722,\n",
       " 2.5017951927562754,\n",
       " 2.474876538361653,\n",
       " 2.4631718975482597,\n",
       " 2.4966201109461266,\n",
       " 2.528687395671807,\n",
       " 2.4716373386949595,\n",
       " 2.5357364451531135,\n",
       " 2.423233127830052,\n",
       " 2.450658859592853,\n",
       " 2.496585676575651,\n",
       " 2.5083805240026797,\n",
       " 2.4974501475249187,\n",
       " 2.505333673835981,\n",
       " 2.532110885818406,\n",
       " 2.425428654887889,\n",
       " 2.5356645761149945,\n",
       " 2.4882031832591145,\n",
       " 2.5492896691407303,\n",
       " 2.4857990299120987,\n",
       " 2.48328702874703,\n",
       " 2.420541203848206,\n",
       " 2.5533413190652827,\n",
       " 2.564274457421633,\n",
       " 2.4794434486049237,\n",
       " 2.5008994376305305,\n",
       " 2.5355768097509253,\n",
       " 2.5069627313330622,\n",
       " 2.50344980117118,\n",
       " 2.505100102707891,\n",
       " 2.5874733464552624,\n",
       " 2.499381267198242,\n",
       " 2.5458150311271743,\n",
       " 2.6051953724115204,\n",
       " 2.4854803604654743,\n",
       " 2.482636531980911,\n",
       " 2.5278990292313073,\n",
       " 2.4553764385752155,\n",
       " 2.5551284315562484,\n",
       " 2.46518064253401,\n",
       " 2.524562902969889,\n",
       " 2.467418276437438,\n",
       " 2.4087736830853,\n",
       " 2.3779368713350575,\n",
       " 2.5705505467877527,\n",
       " 2.571414955771796,\n",
       " 2.5041484484578125,\n",
       " 2.5560083519114127,\n",
       " 2.5057141863473573,\n",
       " 2.500215973004256,\n",
       " 2.507733988289786,\n",
       " 2.5122384139806915,\n",
       " 2.583418109629414,\n",
       " 2.500927849571304,\n",
       " 2.567070763890106,\n",
       " 2.451996664009472,\n",
       " 2.601829789062538,\n",
       " 2.5482182054236384,\n",
       " 2.58175532770629,\n",
       " 2.5461178132803135,\n",
       " 2.48218034871734,\n",
       " 2.4786579679734637,\n",
       " 2.48732066862654,\n",
       " 2.410826092899436,\n",
       " 2.6305514774700205,\n",
       " 2.5168020654432843,\n",
       " 2.5137835422364794,\n",
       " 2.4772284644665103,\n",
       " 2.533973957052325,\n",
       " 2.452590537543344,\n",
       " 2.4916468929536273,\n",
       " 2.505855620497524,\n",
       " 2.530534098644068,\n",
       " 2.552783204777406,\n",
       " 2.5303594452319755,\n",
       " 2.6322066760299228,\n",
       " 2.548008679163338,\n",
       " 2.472165595186819,\n",
       " 2.5478863904971885,\n",
       " 2.544429514667775,\n",
       " 2.504043674705052,\n",
       " 2.5714534532905806,\n",
       " 2.528126351904161,\n",
       " 2.629343398726813,\n",
       " 2.5058588155425423,\n",
       " 2.47305159285517,\n",
       " 2.5464677509694997,\n",
       " 2.4828723196936124,\n",
       " 2.47678019504736,\n",
       " 2.5605443562611496,\n",
       " 2.5457829083546555,\n",
       " 2.4434032794272547,\n",
       " 2.5826149494341104,\n",
       " 2.535795263724752,\n",
       " 2.589929786058936,\n",
       " 2.542260948974307,\n",
       " 2.6465426836863606,\n",
       " 2.549897412262341,\n",
       " 2.4709996681402226,\n",
       " 2.573500845691945,\n",
       " 2.5182277802193522,\n",
       " 2.5182214644875853,\n",
       " 2.502632207209521,\n",
       " 2.5408128122291944,\n",
       " 2.5472206467449072,\n",
       " 2.4469489897831833,\n",
       " 2.4945088341684625,\n",
       " 2.544512681441732,\n",
       " 2.552954889760159,\n",
       " 2.471160057157573,\n",
       " 2.6048678915099344,\n",
       " 2.534833574058986,\n",
       " 2.463587291169875,\n",
       " 2.5523249866938826,\n",
       " 2.46460752912087,\n",
       " 2.5501413463365914,\n",
       " 2.534666601974185,\n",
       " 2.482564330101013,\n",
       " 2.549911388076178,\n",
       " 2.575508619299029,\n",
       " 2.5741310910423203,\n",
       " 2.549236998699679,\n",
       " 2.5493896627190087,\n",
       " 2.51211413770619,\n",
       " 2.597615921851432,\n",
       " 2.553023445134116,\n",
       " 2.5780267573819304,\n",
       " 2.5530556924272294,\n",
       " 2.508220641919882,\n",
       " 2.5444639201211454,\n",
       " 2.468232292940121,\n",
       " 2.4514668483545283,\n",
       " 2.5138825768291357,\n",
       " 2.5572077932924326,\n",
       " 2.4889706986965523,\n",
       " 2.468373925379007,\n",
       " 2.5294355649759273,\n",
       " 2.4765727460974514,\n",
       " 2.4956127700239126,\n",
       " 2.511276127088188,\n",
       " 2.5217868313931002,\n",
       " 2.442319950254837,\n",
       " 2.5157777684749942,\n",
       " 2.4856969360077734,\n",
       " 2.4201515134018248,\n",
       " 2.4733547467996577,\n",
       " 2.5182216132041253,\n",
       " 2.6391697720725937,\n",
       " 2.5474520142715757,\n",
       " 2.4916650859436187,\n",
       " 2.4792234933022224,\n",
       " 2.514762043952942,\n",
       " 2.473789546749379,\n",
       " 2.507055118532464,\n",
       " 2.5201904053735262,\n",
       " 2.4583666371827078,\n",
       " 2.583706566602877,\n",
       " 2.480124471211197,\n",
       " 2.4740131774751264,\n",
       " 2.438947839312034,\n",
       " 2.477861491760405,\n",
       " 2.5384426683482557,\n",
       " 2.496748210179924,\n",
       " 2.5538179886223067,\n",
       " 2.5493691911791814,\n",
       " 2.492730674177113,\n",
       " 2.5164504169237496,\n",
       " 2.4959242762905536,\n",
       " 2.524718731936842,\n",
       " 2.5465351508395506,\n",
       " 2.4832638077216576,\n",
       " 2.5072725456539944,\n",
       " 2.517556433630462,\n",
       " 2.471871498787757,\n",
       " 2.501781478966817,\n",
       " 2.5166826991751643,\n",
       " 2.5321691000815667,\n",
       " 2.5474767649527825,\n",
       " 2.5591036577035884,\n",
       " 2.5280396560631173,\n",
       " 2.4484596901600906,\n",
       " 2.393776193703755,\n",
       " 2.576026112726419,\n",
       " 2.5425894874157295,\n",
       " 2.5565464956925648,\n",
       " 2.474928364895358]"
      ]
     },
     "execution_count": 222,
     "metadata": {},
     "output_type": "execute_result"
    }
   ],
   "source": [
    "average_mae_history"
   ]
  },
  {
   "cell_type": "code",
   "execution_count": 224,
   "metadata": {},
   "outputs": [
    {
     "data": {
      "image/png": "[encoded data removed]",
      "text/plain": [
       "<Figure size 432x288 with 1 Axes>"
      ]
     },
     "metadata": {},
     "output_type": "display_data"
    }
   ],
   "source": [
    "plt.plot(range(1, len(average_mae_history) + 1), average_mae_history)\n",
    "plt.xlabel('Epochs')\n",
    "plt.ylabel('Validation MAE')\n",
    "plt.show()"
   ]
  },
  {
   "cell_type": "code",
   "execution_count": null,
   "metadata": {},
   "outputs": [],
   "source": []
  }
 ],
 "metadata": {
  "kernelspec": {
   "display_name": "Python 3",
   "language": "python",
   "name": "python3"
  },
  "language_info": {
   "codemirror_mode": {
    "name": "ipython",
    "version": 3
   },
   "file_extension": ".py",
   "mimetype": "text/x-python",
   "name": "python",
   "nbconvert_exporter": "python",
   "pygments_lexer": "ipython3",
   "version": "3.6.3"
  }
 },
 "nbformat": 4,
 "nbformat_minor": 2
}
