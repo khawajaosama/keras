{
 "cells": [
  {
   "cell_type": "code",
   "execution_count": 74,
   "metadata": {},
   "outputs": [],
   "source": [
    "import numpy as np\n",
    "from matplotlib import pyplot as plt\n",
    "import tensorflow"
   ]
  },
  {
   "cell_type": "code",
   "execution_count": 75,
   "metadata": {},
   "outputs": [],
   "source": [
    "from keras.datasets import boston_housing"
   ]
  },
  {
   "cell_type": "code",
   "execution_count": 76,
   "metadata": {
    "scrolled": true
   },
   "outputs": [],
   "source": [
    "(train_data,train_targets),(test_data,test_targets)=boston_housing.load_data()"
   ]
  },
  {
   "cell_type": "markdown",
   "metadata": {},
   "source": [
    "## Attributes of Data"
   ]
  },
  {
   "cell_type": "code",
   "execution_count": 77,
   "metadata": {},
   "outputs": [
    {
     "name": "stdout",
     "output_type": "stream",
     "text": [
      "404\n",
      "102\n",
      "(404, 13)\n",
      "(102, 13)\n"
     ]
    }
   ],
   "source": [
    "print(len(train_data))\n",
    "print(len(test_data))\n",
    "print(train_data.shape)\n",
    "print(test_data.shape)"
   ]
  },
  {
   "cell_type": "markdown",
   "metadata": {},
   "source": [
    "### Labels are the mean price values in 1k dollars"
   ]
  },
  {
   "cell_type": "code",
   "execution_count": 78,
   "metadata": {},
   "outputs": [
    {
     "name": "stdout",
     "output_type": "stream",
     "text": [
      "[15.2 42.3 50.  21.1 17.7 18.5 11.3 15.6 15.6 14.4 12.1 17.9 23.1 19.9\n",
      " 15.7  8.8 50.  22.5 24.1 27.5 10.9 30.8 32.9 24.  18.5 13.3 22.9 34.7\n",
      " 16.6 17.5 22.3 16.1 14.9 23.1 34.9 25.  13.9 13.1 20.4 20.  15.2 24.7\n",
      " 22.2 16.7 12.7 15.6 18.4 21.  30.1 15.1 18.7  9.6 31.5 24.8 19.1 22.\n",
      " 14.5 11.  32.  29.4 20.3 24.4 14.6 19.5 14.1 14.3 15.6 10.5  6.3 19.3\n",
      " 19.3 13.4 36.4 17.8 13.5 16.5  8.3 14.3 16.  13.4 28.6 43.5 20.2 22.\n",
      " 23.  20.7 12.5 48.5 14.6 13.4 23.7 50.  21.7 39.8 38.7 22.2 34.9 22.5\n",
      " 31.1 28.7 46.  41.7 21.  26.6 15.  24.4 13.3 21.2 11.7 21.7 19.4 50.\n",
      " 22.8 19.7 24.7 36.2 14.2 18.9 18.3 20.6 24.6 18.2  8.7 44.  10.4 13.2\n",
      " 21.2 37.  30.7 22.9 20.  19.3 31.7 32.  23.1 18.8 10.9 50.  19.6  5.\n",
      " 14.4 19.8 13.8 19.6 23.9 24.5 25.  19.9 17.2 24.6 13.5 26.6 21.4 11.9\n",
      " 22.6 19.6  8.5 23.7 23.1 22.4 20.5 23.6 18.4 35.2 23.1 27.9 20.6 23.7\n",
      " 28.  13.6 27.1 23.6 20.6 18.2 21.7 17.1  8.4 25.3 13.8 22.2 18.4 20.7\n",
      " 31.6 30.5 20.3  8.8 19.2 19.4 23.1 23.  14.8 48.8 22.6 33.4 21.1 13.6\n",
      " 32.2 13.1 23.4 18.9 23.9 11.8 23.3 22.8 19.6 16.7 13.4 22.2 20.4 21.8\n",
      " 26.4 14.9 24.1 23.8 12.3 29.1 21.  19.5 23.3 23.8 17.8 11.5 21.7 19.9\n",
      " 25.  33.4 28.5 21.4 24.3 27.5 33.1 16.2 23.3 48.3 22.9 22.8 13.1 12.7\n",
      " 22.6 15.  15.3 10.5 24.  18.5 21.7 19.5 33.2 23.2  5.  19.1 12.7 22.3\n",
      " 10.2 13.9 16.3 17.  20.1 29.9 17.2 37.3 45.4 17.8 23.2 29.  22.  18.\n",
      " 17.4 34.6 20.1 25.  15.6 24.8 28.2 21.2 21.4 23.8 31.  26.2 17.4 37.9\n",
      " 17.5 20.   8.3 23.9  8.4 13.8  7.2 11.7 17.1 21.6 50.  16.1 20.4 20.6\n",
      " 21.4 20.6 36.5  8.5 24.8 10.8 21.9 17.3 18.9 36.2 14.9 18.2 33.3 21.8\n",
      " 19.7 31.6 24.8 19.4 22.8  7.5 44.8 16.8 18.7 50.  50.  19.5 20.1 50.\n",
      " 17.2 20.8 19.3 41.3 20.4 20.5 13.8 16.5 23.9 20.6 31.5 23.3 16.8 14.\n",
      " 33.8 36.1 12.8 18.3 18.7 19.1 29.  30.1 50.  50.  22.  11.9 37.6 50.\n",
      " 22.7 20.8 23.5 27.9 50.  19.3 23.9 22.6 15.2 21.7 19.2 43.8 20.3 33.2\n",
      " 19.9 22.5 32.7 22.  17.1 19.  15.  16.1 25.1 23.7 28.7 37.2 22.6 16.4\n",
      " 25.  29.8 22.1 17.4 18.1 30.3 17.5 24.7 12.6 26.5 28.7 13.3 10.4 24.4\n",
      " 23.  20.  17.8  7.  11.8 24.4 13.8 19.4 25.2 19.4 19.4 29.1]\n",
      "[ 7.2 18.8 19.  27.  22.2 24.5 31.2 22.9 20.5 23.2 18.6 14.5 17.8 50.\n",
      " 20.8 24.3 24.2 19.8 19.1 22.7 12.  10.2 20.  18.5 20.9 23.  27.5 30.1\n",
      "  9.5 22.  21.2 14.1 33.1 23.4 20.1  7.4 15.4 23.8 20.1 24.5 33.  28.4\n",
      " 14.1 46.7 32.5 29.6 28.4 19.8 20.2 25.  35.4 20.3  9.7 14.5 34.9 26.6\n",
      "  7.2 50.  32.4 21.6 29.8 13.1 27.5 21.2 23.1 21.9 13.  23.2  8.1  5.6\n",
      " 21.7 29.6 19.6  7.  26.4 18.9 20.9 28.1 35.4 10.2 24.3 43.1 17.6 15.4\n",
      " 16.2 27.1 21.4 21.5 22.4 25.  16.6 18.6 22.  42.8 35.1 21.5 36.  21.9\n",
      " 24.1 50.  26.7 25. ]\n"
     ]
    }
   ],
   "source": [
    "print(train_targets)\n",
    "\n",
    "print(test_targets)"
   ]
  },
  {
   "cell_type": "code",
   "execution_count": 79,
   "metadata": {},
   "outputs": [],
   "source": [
    "mean=train_data.mean(axis=0)\n",
    "std=train_data.std(axis=0)"
   ]
  },
  {
   "cell_type": "code",
   "execution_count": 80,
   "metadata": {},
   "outputs": [],
   "source": [
    "train_data-=mean\n",
    "train_data/=std"
   ]
  },
  {
   "cell_type": "code",
   "execution_count": 81,
   "metadata": {},
   "outputs": [
    {
     "data": {
      "text/plain": [
       "array([[-0.27224633, -0.48361547, -0.43576161, ...,  1.14850044,\n",
       "         0.44807713,  0.8252202 ],\n",
       "       [-0.40342651,  2.99178419, -1.33391162, ..., -1.71818909,\n",
       "         0.43190599, -1.32920239],\n",
       "       [ 0.1249402 , -0.48361547,  1.0283258 , ...,  0.78447637,\n",
       "         0.22061726, -1.30850006],\n",
       "       ...,\n",
       "       [-0.40202987,  0.99079651, -0.7415148 , ..., -0.71712291,\n",
       "         0.07943894, -0.67776904],\n",
       "       [-0.17292018, -0.48361547,  1.24588095, ..., -1.71818909,\n",
       "        -0.98764362,  0.42083466],\n",
       "       [-0.40422614,  2.04394792, -1.20161456, ..., -1.30866202,\n",
       "         0.23317118, -1.15392266]])"
      ]
     },
     "execution_count": 81,
     "metadata": {},
     "output_type": "execute_result"
    }
   ],
   "source": [
    "train_data"
   ]
  },
  {
   "cell_type": "markdown",
   "metadata": {},
   "source": [
    "## Lets get started"
   ]
  },
  {
   "cell_type": "code",
   "execution_count": 82,
   "metadata": {},
   "outputs": [],
   "source": [
    "from keras import models\n",
    "from keras import layers\n",
    "\n",
    "def build_model():\n",
    "    model=models.Sequential()\n",
    "    model.add(layers.Dense(64, activation='relu',input_shape=(train_data.shape[1],)))\n",
    "    model.add(layers.Dense(64,activation='relu'))\n",
    "    model.add(layers.Dense(1))\n",
    "    model.compile(optimizer='rmsprop',loss='mse',metrics=['mae'])\n",
    "    return model\n"
   ]
  },
  {
   "cell_type": "markdown",
   "metadata": {},
   "source": [
    "## K-Fold Validation"
   ]
  },
  {
   "cell_type": "code",
   "execution_count": 83,
   "metadata": {},
   "outputs": [
    {
     "data": {
      "text/plain": [
       "101"
      ]
     },
     "execution_count": 83,
     "metadata": {},
     "output_type": "execute_result"
    }
   ],
   "source": [
    "k=4\n",
    "num_val_samples=len(train_data)//k\n",
    "num_epochs=100\n",
    "all_scores=[]\n",
    "num_val_samples"
   ]
  },
  {
   "cell_type": "code",
   "execution_count": 84,
   "metadata": {
    "scrolled": true
   },
   "outputs": [
    {
     "name": "stdout",
     "output_type": "stream",
     "text": [
      "processing fold # 0\n",
      "processing fold # 1\n",
      "processing fold # 2\n",
      "processing fold # 3\n"
     ]
    }
   ],
   "source": [
    "for i in range(k):\n",
    "    print('processing fold #', i)\n",
    "    val_data = train_data[i * num_val_samples: (i + 1) * num_val_samples]\n",
    "    val_targets = train_targets[i * num_val_samples: (i + 1) * num_val_samples]\n",
    "    \n",
    "    partial_train_data = np.concatenate([train_data[:i * num_val_samples],\n",
    "                                         train_data[(i + 1) * num_val_samples:]],axis=0)\n",
    "    partial_train_targets = np.concatenate([train_targets[:i * num_val_samples],\n",
    "                                        train_targets[(i + 1) * num_val_samples:]],axis=0)\n",
    "    model=build_model()\n",
    "    model.fit(partial_train_data, partial_train_targets,\n",
    "        epochs=num_epochs, batch_size=1, verbose=0)\n",
    "    val_mse, val_mae = model.evaluate(val_data, val_targets, verbose=0)\n",
    "    all_scores.append(val_mae)"
   ]
  },
  {
   "cell_type": "code",
   "execution_count": 85,
   "metadata": {},
   "outputs": [
    {
     "name": "stdout",
     "output_type": "stream",
     "text": [
      "[2.0561602351689103, 2.197253930686724, 2.9725135718241775, 2.3887315876413098]\n"
     ]
    },
    {
     "data": {
      "text/plain": [
       "2.40366483133028"
      ]
     },
     "execution_count": 85,
     "metadata": {},
     "output_type": "execute_result"
    }
   ],
   "source": [
    "print(all_scores)\n",
    "np.mean(all_scores)"
   ]
  },
  {
   "cell_type": "markdown",
   "metadata": {},
   "source": [
    "## For 500 epochs"
   ]
  },
  {
   "cell_type": "code",
   "execution_count": 86,
   "metadata": {},
   "outputs": [
    {
     "data": {
      "text/plain": [
       "101"
      ]
     },
     "execution_count": 86,
     "metadata": {},
     "output_type": "execute_result"
    }
   ],
   "source": [
    "k=4\n",
    "num_val_samples=len(train_data)//k\n",
    "num_epochs=500\n",
    "all_mae_histories=[]\n",
    "num_val_samples"
   ]
  },
  {
   "cell_type": "code",
   "execution_count": 87,
   "metadata": {},
   "outputs": [
    {
     "name": "stdout",
     "output_type": "stream",
     "text": [
      "processing fold # 0\n",
      "processing fold # 1\n",
      "processing fold # 2\n",
      "processing fold # 3\n"
     ]
    }
   ],
   "source": [
    "for i in range(k):\n",
    "    print('processing fold #', i)\n",
    "    val_data = train_data[i * num_val_samples: (i + 1) * num_val_samples]\n",
    "    val_targets = train_targets[i * num_val_samples: (i + 1) * num_val_samples]\n",
    "    \n",
    "    partial_train_data = np.concatenate([train_data[:i * num_val_samples],\n",
    "                                         train_data[(i + 1) * num_val_samples:]],axis=0)\n",
    "    partial_train_targets = np.concatenate([train_targets[:i * num_val_samples],\n",
    "                                        train_targets[(i + 1) * num_val_samples:]],axis=0)\n",
    "    model=build_model()\n",
    "    history = model.fit(partial_train_data, partial_train_targets,\n",
    "                        validation_data=(val_data, val_targets),\n",
    "                        epochs=num_epochs, batch_size=1, verbose=0)\n",
    "    mae_history = history.history['val_mean_absolute_error']\n",
    "    all_mae_histories.append(mae_history)"
   ]
  },
  {
   "cell_type": "code",
   "execution_count": 88,
   "metadata": {},
   "outputs": [
    {
     "data": {
      "text/plain": [
       "500"
      ]
     },
     "execution_count": 88,
     "metadata": {},
     "output_type": "execute_result"
    }
   ],
   "source": [
    "len(all_mae_histories[0])"
   ]
  },
  {
   "cell_type": "code",
   "execution_count": 89,
   "metadata": {},
   "outputs": [],
   "source": [
    "average_mae_history = [np.mean([x[i] for x in all_mae_histories]) for i in range(num_epochs)]"
   ]
  },
  {
   "cell_type": "code",
   "execution_count": 90,
   "metadata": {},
   "outputs": [
    {
     "data": {
      "text/plain": [
       "[4.796269461660102,\n",
       " 3.388238281306654,\n",
       " 3.061993864503237,\n",
       " 2.7484520461299633,\n",
       " 2.80074945062694,\n",
       " 2.7023014809825634,\n",
       " 2.6415030106459514,\n",
       " 2.6315107109523055,\n",
       " 2.562862494204304,\n",
       " 2.585591881582052,\n",
       " 2.4896637484578803,\n",
       " 2.731956430000834,\n",
       " 2.5156363024569974,\n",
       " 2.4003430309862193,\n",
       " 2.43239428501318,\n",
       " 2.4223095532691126,\n",
       " 2.477807870005617,\n",
       " 2.446751560315047,\n",
       " 2.3628883833932406,\n",
       " 2.498688898464241,\n",
       " 2.3787551622579595,\n",
       " 2.349093801904433,\n",
       " 2.324021832777722,\n",
       " 2.340618425076551,\n",
       " 2.5041187848194992,\n",
       " 2.338131050072094,\n",
       " 2.2949599322706167,\n",
       " 2.406865115803067,\n",
       " 2.3154274756365485,\n",
       " 2.4512428824264227,\n",
       " 2.3697790662841043,\n",
       " 2.479339658623875,\n",
       " 2.3461384360152895,\n",
       " 2.440986126956373,\n",
       " 2.43088704288596,\n",
       " 2.2870150828125455,\n",
       " 2.37707514337974,\n",
       " 2.321323040688392,\n",
       " 2.302972648403432,\n",
       " 2.3791929701767343,\n",
       " 2.2830259811760176,\n",
       " 2.304643901267854,\n",
       " 2.304004453196384,\n",
       " 2.296962804133349,\n",
       " 2.2344562488027138,\n",
       " 2.468655356086127,\n",
       " 2.295097910531677,\n",
       " 2.3400272119163286,\n",
       " 2.355159490415365,\n",
       " 2.3330366068547312,\n",
       " 2.298083939174614,\n",
       " 2.337182814531987,\n",
       " 2.5173767451012488,\n",
       " 2.5187874772761125,\n",
       " 2.3575583507518956,\n",
       " 2.3193014907364797,\n",
       " 2.3711333853183407,\n",
       " 2.3319304768401796,\n",
       " 2.3340264523383416,\n",
       " 2.365994466413366,\n",
       " 2.4586151413398216,\n",
       " 2.4067927587150346,\n",
       " 2.4435660060089415,\n",
       " 2.3299007533800484,\n",
       " 2.3687945970214237,\n",
       " 2.3000157422358445,\n",
       " 2.378743283819444,\n",
       " 2.3609968175982483,\n",
       " 2.4294124062698668,\n",
       " 2.3978530876707325,\n",
       " 2.3942615560965965,\n",
       " 2.347755940833894,\n",
       " 2.397879148473834,\n",
       " 2.46747092563327,\n",
       " 2.4669447075022326,\n",
       " 2.3592417794879124,\n",
       " 2.5006375879344374,\n",
       " 2.466249035136534,\n",
       " 2.7238040584148746,\n",
       " 2.401556567390366,\n",
       " 2.333435865912107,\n",
       " 2.468626699825325,\n",
       " 2.300956557292749,\n",
       " 2.3889711587735922,\n",
       " 2.3344422189315948,\n",
       " 2.3931875819026835,\n",
       " 2.4959395073428015,\n",
       " 2.423572807028742,\n",
       " 2.3771318775592465,\n",
       " 2.577500852027742,\n",
       " 2.571111963527038,\n",
       " 2.3777743035023753,\n",
       " 2.475672162405335,\n",
       " 2.3448440757128273,\n",
       " 2.410543343808391,\n",
       " 2.3923802434807957,\n",
       " 2.6678080240098554,\n",
       " 2.334261963863184,\n",
       " 2.44219168223957,\n",
       " 2.4857561316820656,\n",
       " 2.466817295197213,\n",
       " 2.376289168206772,\n",
       " 2.430141556380999,\n",
       " 2.3899306590014167,\n",
       " 2.67212965700886,\n",
       " 2.389973426809405,\n",
       " 2.432781475605351,\n",
       " 2.5970335573253065,\n",
       " 2.4769667221768064,\n",
       " 2.4216925413301675,\n",
       " 2.3746570372345426,\n",
       " 2.4490509800391624,\n",
       " 2.4596054825452294,\n",
       " 2.497466749483996,\n",
       " 2.5629608454090533,\n",
       " 2.4374483221828345,\n",
       " 2.4399512262627634,\n",
       " 2.5286203103490394,\n",
       " 2.7313377160837153,\n",
       " 2.5557494635629183,\n",
       " 2.5449108357476717,\n",
       " 2.476252246611189,\n",
       " 2.469791512678165,\n",
       " 2.416577746372412,\n",
       " 2.4810827002666964,\n",
       " 2.4617752993460926,\n",
       " 2.485405684697746,\n",
       " 2.480253437958141,\n",
       " 2.45776899970404,\n",
       " 2.4732321784047797,\n",
       " 2.3455894016983487,\n",
       " 2.4816030629790653,\n",
       " 2.549164985666181,\n",
       " 2.507125933571617,\n",
       " 2.428256233139793,\n",
       " 2.440723433352933,\n",
       " 2.52789036826332,\n",
       " 2.367091538882492,\n",
       " 2.447495774467393,\n",
       " 2.584296025852166,\n",
       " 2.5177103705925514,\n",
       " 2.4085214409497704,\n",
       " 2.525953720111658,\n",
       " 2.521523240769264,\n",
       " 2.526797888302567,\n",
       " 2.500876583675347,\n",
       " 2.4775636302362574,\n",
       " 2.4727223285354007,\n",
       " 2.5667268911210614,\n",
       " 2.5521100653280127,\n",
       " 2.572412728083016,\n",
       " 2.8192069318034862,\n",
       " 2.5224331652764045,\n",
       " 2.5967605172997654,\n",
       " 2.4958192723812442,\n",
       " 2.5945066485074486,\n",
       " 2.544227528099966,\n",
       " 2.7265824575235347,\n",
       " 2.6618374479879248,\n",
       " 2.5123602364322926,\n",
       " 2.547377962877255,\n",
       " 2.6212390413378728,\n",
       " 2.481930841313731,\n",
       " 2.5595508152895636,\n",
       " 2.618881900711815,\n",
       " 2.5945370161887444,\n",
       " 2.595023442022871,\n",
       " 2.6463172907876498,\n",
       " 2.5093719321902435,\n",
       " 2.5390410045586007,\n",
       " 2.5837892258521356,\n",
       " 2.686052349534365,\n",
       " 2.5091670975826754,\n",
       " 2.5762229119196975,\n",
       " 2.7429947144914384,\n",
       " 2.672973965654279,\n",
       " 2.6173515461459016,\n",
       " 2.5588685946889442,\n",
       " 2.604115592371119,\n",
       " 2.54170560954821,\n",
       " 2.574745016522927,\n",
       " 2.6167922137987496,\n",
       " 2.688323939200675,\n",
       " 2.5354751478327384,\n",
       " 2.5240681962211533,\n",
       " 2.4912580121861825,\n",
       " 2.4923868710451784,\n",
       " 2.51311996785721,\n",
       " 2.5523618849197236,\n",
       " 2.640001206114741,\n",
       " 2.4688680408024553,\n",
       " 2.4847233378060976,\n",
       " 2.6502996966390326,\n",
       " 2.5659209454413685,\n",
       " 2.618730033978377,\n",
       " 2.610955300897655,\n",
       " 2.5692923305058244,\n",
       " 2.5887725483072868,\n",
       " 2.5886587671714256,\n",
       " 2.5462210945563744,\n",
       " 2.5707188407973485,\n",
       " 2.554787817567882,\n",
       " 2.4672613238344097,\n",
       " 2.565550474837275,\n",
       " 2.491093686311552,\n",
       " 2.5854569838778807,\n",
       " 2.551543653601467,\n",
       " 2.5516684279583464,\n",
       " 2.5048446773302437,\n",
       " 2.5358403307376522,\n",
       " 2.6164326396318947,\n",
       " 2.655648111116768,\n",
       " 2.590555160352499,\n",
       " 2.4672559523346402,\n",
       " 2.5742485830099278,\n",
       " 2.6363352596169656,\n",
       " 2.527647145903937,\n",
       " 2.542541231259261,\n",
       " 2.693793314518315,\n",
       " 2.7527120833349703,\n",
       " 2.561570081380334,\n",
       " 2.637149765939996,\n",
       " 2.5763189355925755,\n",
       " 2.5680715058109547,\n",
       " 2.6786031569584763,\n",
       " 2.583330525030004,\n",
       " 2.630234630981294,\n",
       " 2.537471143325957,\n",
       " 2.529849943548146,\n",
       " 2.545725419969842,\n",
       " 2.625050959020558,\n",
       " 2.6088146419808416,\n",
       " 2.597872004650607,\n",
       " 2.6065903111259536,\n",
       " 2.5716202058414424,\n",
       " 2.544193611286654,\n",
       " 2.632794506479018,\n",
       " 2.667226787840966,\n",
       " 2.675273167024745,\n",
       " 2.5996084177848138,\n",
       " 2.5543464882539055,\n",
       " 2.639593876234376,\n",
       " 2.6444516783893697,\n",
       " 2.5841432644589113,\n",
       " 2.599598247225922,\n",
       " 2.712767732025373,\n",
       " 2.5511283213549323,\n",
       " 2.662647266199093,\n",
       " 2.5927483433544047,\n",
       " 2.747650138222345,\n",
       " 2.6080830415876783,\n",
       " 2.671440757147156,\n",
       " 2.62248427088898,\n",
       " 2.731269919046081,\n",
       " 2.698414941825489,\n",
       " 2.678277897362662,\n",
       " 2.698464433745583,\n",
       " 2.6156538040331094,\n",
       " 2.6213724967276697,\n",
       " 2.524610731861379,\n",
       " 2.5966042055942045,\n",
       " 2.6445623766077624,\n",
       " 2.6438037145255815,\n",
       " 2.5053683401334403,\n",
       " 2.6432380581846333,\n",
       " 2.5424025625285536,\n",
       " 2.5930768369448067,\n",
       " 2.6185781849492895,\n",
       " 2.67378828313091,\n",
       " 2.5519264405316644,\n",
       " 2.6116378165707728,\n",
       " 2.613643480999635,\n",
       " 2.592225447739705,\n",
       " 2.6339925669207434,\n",
       " 2.5961406927297617,\n",
       " 2.6642777778134485,\n",
       " 2.656500746708105,\n",
       " 2.535370878653951,\n",
       " 2.7209820051004394,\n",
       " 2.5406662296540667,\n",
       " 2.607043665234405,\n",
       " 2.541582164197865,\n",
       " 2.6655821705808735,\n",
       " 2.5927749494514845,\n",
       " 2.70615819893261,\n",
       " 2.502668782035903,\n",
       " 2.750071193912242,\n",
       " 2.562810772716409,\n",
       " 2.6153459135848696,\n",
       " 2.5340269343687756,\n",
       " 2.515698281845244,\n",
       " 2.675064037341883,\n",
       " 2.6932715449002713,\n",
       " 2.625900196556998,\n",
       " 2.7326017051640124,\n",
       " 2.57496175907626,\n",
       " 2.5956014052476033,\n",
       " 2.6418685488181537,\n",
       " 2.6787835536616864,\n",
       " 2.5215694290576596,\n",
       " 2.5298412707772586,\n",
       " 2.6536640235693145,\n",
       " 2.5825393353358352,\n",
       " 2.580351654845889,\n",
       " 2.712921883800242,\n",
       " 2.656506608028223,\n",
       " 2.6490607474109913,\n",
       " 2.6161257429878306,\n",
       " 2.683303148439615,\n",
       " 2.6880563273288236,\n",
       " 2.671345604528295,\n",
       " 2.7048160640319976,\n",
       " 2.5331989975258855,\n",
       " 2.702812167677549,\n",
       " 2.7105883595967057,\n",
       " 2.5524711644295417,\n",
       " 2.588925047676162,\n",
       " 2.6369768617176774,\n",
       " 2.7545670896473498,\n",
       " 2.5923885402112905,\n",
       " 2.6365002075044237,\n",
       " 2.7718146779749655,\n",
       " 2.6142416425270607,\n",
       " 2.604888096894368,\n",
       " 2.571187950596951,\n",
       " 2.694487777086768,\n",
       " 2.517758300988981,\n",
       " 2.6160317446925854,\n",
       " 2.6026925922620414,\n",
       " 2.593199380553595,\n",
       " 2.5687174761649407,\n",
       " 2.6711464624593755,\n",
       " 2.664470392878693,\n",
       " 2.5168015366733663,\n",
       " 2.640779712412617,\n",
       " 2.562912341391686,\n",
       " 2.550465726616359,\n",
       " 2.6127101076711523,\n",
       " 2.63695488943912,\n",
       " 2.588596300323411,\n",
       " 2.611105737119618,\n",
       " 2.7272309454360815,\n",
       " 2.5057386289728747,\n",
       " 2.537580911475833,\n",
       " 2.581923999408684,\n",
       " 2.641923605805576,\n",
       " 2.6058785455061657,\n",
       " 2.514437985892343,\n",
       " 2.567155605495566,\n",
       " 2.6087629523607765,\n",
       " 2.5617641989547426,\n",
       " 2.595064716764016,\n",
       " 2.564947845912216,\n",
       " 2.5994025704884294,\n",
       " 2.554503372400114,\n",
       " 2.5092063221600975,\n",
       " 2.628613626602853,\n",
       " 2.6549982741327574,\n",
       " 2.645815174178322,\n",
       " 2.4612671467337277,\n",
       " 2.564409946451093,\n",
       " 2.480358056502767,\n",
       " 2.6366357697118623,\n",
       " 2.554775333640599,\n",
       " 2.567224912124105,\n",
       " 2.4646999399260716,\n",
       " 2.4970279058607496,\n",
       " 2.6673765459863263,\n",
       " 2.514024038125973,\n",
       " 2.839945159336128,\n",
       " 2.517612323902621,\n",
       " 2.5613491004056272,\n",
       " 2.5541195291103707,\n",
       " 2.689136029470085,\n",
       " 2.5342774521006217,\n",
       " 2.6322937212368047,\n",
       " 2.5180578526884023,\n",
       " 2.596952181051273,\n",
       " 2.653291816758637,\n",
       " 2.539877692071518,\n",
       " 2.5472909760947275,\n",
       " 2.6336978721146536,\n",
       " 2.598770524015521,\n",
       " 2.6452601581516832,\n",
       " 2.5059847383215876,\n",
       " 2.5678690394552626,\n",
       " 2.538237980096647,\n",
       " 2.655164084812202,\n",
       " 2.6059292354206045,\n",
       " 2.6914284890240965,\n",
       " 2.6670801722177186,\n",
       " 2.5909094255749543,\n",
       " 2.5641428999381493,\n",
       " 2.5588523952087554,\n",
       " 2.6315447540566472,\n",
       " 2.5973641447501605,\n",
       " 2.668056799633668,\n",
       " 2.627561574525172,\n",
       " 2.614909903247758,\n",
       " 2.6209820249293108,\n",
       " 2.632823979500497,\n",
       " 2.6111725031739415,\n",
       " 2.5502966040431865,\n",
       " 2.6080811885323856,\n",
       " 2.676175936613933,\n",
       " 2.6093842546538553,\n",
       " 2.5492683106129714,\n",
       " 2.5763700091012636,\n",
       " 2.6133779405367257,\n",
       " 2.6377241493451713,\n",
       " 2.577510228251467,\n",
       " 2.593047300187668,\n",
       " 2.595121232589873,\n",
       " 2.5735639687811975,\n",
       " 2.5294336316609147,\n",
       " 2.5718721316592528,\n",
       " 2.5851024837777166,\n",
       " 2.582497910697861,\n",
       " 2.661150900444182,\n",
       " 2.549106242633102,\n",
       " 2.6175476029367726,\n",
       " 2.5936091335693208,\n",
       " 2.5200859024973195,\n",
       " 2.625721506553121,\n",
       " 2.605614880524059,\n",
       " 2.61053726106587,\n",
       " 2.643441125898078,\n",
       " 2.590854283606652,\n",
       " 2.519797951868265,\n",
       " 2.5654515264057878,\n",
       " 2.6058308806749855,\n",
       " 2.57964028698383,\n",
       " 2.5552667284956074,\n",
       " 2.556026958002902,\n",
       " 2.5516297474946126,\n",
       " 2.6347686477226784,\n",
       " 2.55761464397506,\n",
       " 2.598176870015588,\n",
       " 2.663269260142109,\n",
       " 2.5322585200319194,\n",
       " 2.6843420975279098,\n",
       " 2.5827276529652057,\n",
       " 2.555137328582235,\n",
       " 2.523298459477944,\n",
       " 2.612814756903318,\n",
       " 2.5948105177076735,\n",
       " 2.5657099355565443,\n",
       " 2.6504058731664526,\n",
       " 2.557715928200448,\n",
       " 2.5972182609067103,\n",
       " 2.5727513922323095,\n",
       " 2.5753549726882783,\n",
       " 2.692281757250871,\n",
       " 2.573715514475756,\n",
       " 2.567018113513984,\n",
       " 2.5186877345094585,\n",
       " 2.6271868932365186,\n",
       " 2.5397937451258743,\n",
       " 2.599214514883438,\n",
       " 2.6064913803988166,\n",
       " 2.507731526204855,\n",
       " 2.471306564784286,\n",
       " 2.5060367230141516,\n",
       " 2.558385173873146,\n",
       " 2.6051386736407136,\n",
       " 2.574258733503889,\n",
       " 2.5795869697438607,\n",
       " 2.6208806297566634,\n",
       " 2.5768870020856953,\n",
       " 2.5285807505692586,\n",
       " 2.5813154277234975,\n",
       " 2.55036328039547,\n",
       " 2.564275558042054,\n",
       " 2.504433648421032,\n",
       " 2.4984386592808336,\n",
       " 2.545033875078258,\n",
       " 2.5697646341701543,\n",
       " 2.5072260516704903,\n",
       " 2.52800988324798,\n",
       " 2.526459297331253,\n",
       " 2.5597845835260826,\n",
       " 2.533108655769046,\n",
       " 2.5547792002706244,\n",
       " 2.585359743326017,\n",
       " 2.5807948808858887,\n",
       " 2.574364521715901,\n",
       " 2.4891515580734405,\n",
       " 2.577311339944896,\n",
       " 2.5563382866358992,\n",
       " 2.624834713369313,\n",
       " 2.590903887654295,\n",
       " 2.534481433358523,\n",
       " 2.527408478283646,\n",
       " 2.499889039757228,\n",
       " 2.4801318314996097,\n",
       " 2.5217402949191556,\n",
       " 2.5391100680474006,\n",
       " 2.530661903985656,\n",
       " 2.462633512987949,\n",
       " 2.4914469305831606]"
      ]
     },
     "execution_count": 90,
     "metadata": {},
     "output_type": "execute_result"
    }
   ],
   "source": [
    "average_mae_history"
   ]
  },
  {
   "cell_type": "code",
   "execution_count": 91,
   "metadata": {},
   "outputs": [
    {
     "data": {
      "image/png": "[encoded data removed]",
      "text/plain": [
       "<Figure size 432x288 with 1 Axes>"
      ]
     },
     "metadata": {},
     "output_type": "display_data"
    }
   ],
   "source": [
    "plt.plot(range(1, len(average_mae_history) + 1), average_mae_history)\n",
    "plt.xlabel('Epochs')\n",
    "plt.ylabel('Validation MAE')\n",
    "plt.show()"
   ]
  },
  {
   "cell_type": "code",
   "execution_count": 92,
   "metadata": {
    "scrolled": true
   },
   "outputs": [
    {
     "data": {
      "image/png": "[encoded data removed]",
      "text/plain": [
       "<Figure size 432x288 with 1 Axes>"
      ]
     },
     "metadata": {},
     "output_type": "display_data"
    }
   ],
   "source": [
    "def smooth_curve(points, factor=0.9):\n",
    "    smoothed_points = []\n",
    "    for point in points:\n",
    "        if smoothed_points:\n",
    "            previous = smoothed_points[-1]\n",
    "            smoothed_points.append(previous * factor + point * (1 - factor))\n",
    "        else:\n",
    "            smoothed_points.append(point)\n",
    "    return smoothed_points\n",
    "smooth_mae_history = smooth_curve(average_mae_history[10:])\n",
    "plt.plot(range(1, len(smooth_mae_history) + 1), smooth_mae_history)\n",
    "plt.xlabel('Epochs')\n",
    "plt.ylabel('Validation MAE')\n",
    "plt.show()"
   ]
  },
  {
   "cell_type": "code",
   "execution_count": 93,
   "metadata": {},
   "outputs": [
    {
     "name": "stdout",
     "output_type": "stream",
     "text": [
      "102/102 [==============================] - 0s 1ms/step\n"
     ]
    }
   ],
   "source": [
    "model=build_model()\n",
    "history = model.fit(train_data,train_targets,epochs=80,batch_size=16,verbose=0)\n",
    "test_mse_score, test_mae_score = model.evaluate(test_data, test_targets)"
   ]
  },
  {
   "cell_type": "code",
   "execution_count": 100,
   "metadata": {},
   "outputs": [
    {
     "data": {
      "text/plain": [
       "dict_keys(['loss', 'mean_absolute_error'])"
      ]
     },
     "execution_count": 100,
     "metadata": {},
     "output_type": "execute_result"
    }
   ],
   "source": [
    "history.history.keys()\n"
   ]
  },
  {
   "cell_type": "code",
   "execution_count": 101,
   "metadata": {},
   "outputs": [
    {
     "data": {
      "text/plain": [
       "2.6528908290190274"
      ]
     },
     "execution_count": 101,
     "metadata": {},
     "output_type": "execute_result"
    }
   ],
   "source": [
    "np.mean(history.history['mean_absolute_error'])\n",
    "\n"
   ]
  },
  {
   "cell_type": "code",
   "execution_count": 102,
   "metadata": {},
   "outputs": [
    {
     "data": {
      "text/plain": [
       "[20.206836568246974,\n",
       " 15.107538109958762,\n",
       " 9.21993908079544,\n",
       " 5.921781809023111,\n",
       " 4.648781231134245,\n",
       " 4.017634719905287,\n",
       " 3.5856754945056273,\n",
       " 3.3602515942979565,\n",
       " 3.1201190641610927,\n",
       " 3.0099141385295605,\n",
       " 2.880754820191034,\n",
       " 2.737633292037662,\n",
       " 2.6326945465390046,\n",
       " 2.5580113713103945,\n",
       " 2.4495862686988152,\n",
       " 2.401134231302998,\n",
       " 2.3560211682083585,\n",
       " 2.31807541611171,\n",
       " 2.281596568551394,\n",
       " 2.280038403992606,\n",
       " 2.2398306756916613,\n",
       " 2.218971620691885,\n",
       " 2.2200013953860442,\n",
       " 2.180817150833583,\n",
       " 2.1594801633664877,\n",
       " 2.1796547162650834,\n",
       " 2.145904524491565,\n",
       " 2.1162607268531723,\n",
       " 2.098598477864029,\n",
       " 2.122082278279975,\n",
       " 2.0745378720878374,\n",
       " 2.0600679180409647,\n",
       " 2.0384520374902406,\n",
       " 2.0488221314874027,\n",
       " 2.041057884103001,\n",
       " 2.037715248542257,\n",
       " 2.032697849934644,\n",
       " 2.0167537490920266,\n",
       " 2.0093761953977074,\n",
       " 1.9990836086839732,\n",
       " 1.967960829782014,\n",
       " 1.994715142958235,\n",
       " 1.961995799942772,\n",
       " 1.9351713492138551,\n",
       " 1.9588929993091244,\n",
       " 1.947120505984467,\n",
       " 1.9099845012815873,\n",
       " 1.9087780371750935,\n",
       " 1.874306603233413,\n",
       " 1.9189711041969828,\n",
       " 1.8789528761759844,\n",
       " 1.8754254426106367,\n",
       " 1.8581013632292795,\n",
       " 1.8573435462347352,\n",
       " 1.8770718952216725,\n",
       " 1.8339320621868171,\n",
       " 1.8291051010094066,\n",
       " 1.8260005157772858,\n",
       " 1.8481104232297085,\n",
       " 1.8253685247780074,\n",
       " 1.8268483275234109,\n",
       " 1.8108005334835242,\n",
       " 1.8154285095705844,\n",
       " 1.777463445569029,\n",
       " 1.8059893740285742,\n",
       " 1.8035088175594216,\n",
       " 1.7640125302985163,\n",
       " 1.7688554749630465,\n",
       " 1.7749635252622094,\n",
       " 1.740979003434134,\n",
       " 1.742005178243807,\n",
       " 1.7606277064521714,\n",
       " 1.755903730298033,\n",
       " 1.736930764547669,\n",
       " 1.7330535732873595,\n",
       " 1.7319823373662364,\n",
       " 1.7185344648833323,\n",
       " 1.6927156589999057,\n",
       " 1.7721955044434803,\n",
       " 1.676975115691081]"
      ]
     },
     "execution_count": 102,
     "metadata": {},
     "output_type": "execute_result"
    }
   ],
   "source": [
    "history.history['mean_absolute_error']"
   ]
  },
  {
   "cell_type": "code",
   "execution_count": null,
   "metadata": {},
   "outputs": [],
   "source": []
  },
  {
   "cell_type": "code",
   "execution_count": null,
   "metadata": {},
   "outputs": [],
   "source": []
  }
 ],
 "metadata": {
  "kernelspec": {
   "display_name": "Python 3",
   "language": "python",
   "name": "python3"
  },
  "language_info": {
   "codemirror_mode": {
    "name": "ipython",
    "version": 3
   },
   "file_extension": ".py",
   "mimetype": "text/x-python",
   "name": "python",
   "nbconvert_exporter": "python",
   "pygments_lexer": "ipython3",
   "version": "3.6.3"
  }
 },
 "nbformat": 4,
 "nbformat_minor": 2
}
